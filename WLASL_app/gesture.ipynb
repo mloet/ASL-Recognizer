{
 "cells": [
  {
   "cell_type": "code",
   "execution_count": 1,
   "metadata": {},
   "outputs": [
    {
     "name": "stderr",
     "output_type": "stream",
     "text": [
      "c:\\Users\\mloet\\anaconda3\\envs\\torch10\\lib\\site-packages\\tqdm\\auto.py:21: TqdmWarning: IProgress not found. Please update jupyter and ipywidgets. See https://ipywidgets.readthedocs.io/en/stable/user_install.html\n",
      "  from .autonotebook import tqdm as notebook_tqdm\n",
      "Seed set to 42\n"
     ]
    }
   ],
   "source": [
    "%load_ext autoreload\n",
    "%autoreload 1\n",
    "%matplotlib inline\n",
    "%aimport tgcn_model\n",
    "import cv2\n",
    "import numpy as np\n",
    "import os\n",
    "from matplotlib import pyplot as plt\n",
    "import time\n",
    "import mediapipe as mp\n",
    "import torch\n",
    "from torchvision import transforms\n",
    "from pytorch_i3d import InceptionI3d\n",
    "from tgcn_model import GCN_muti_att, GraphConvolution_att\n",
    "import json\n",
    "from keytotext import pipeline"
   ]
  },
  {
   "cell_type": "code",
   "execution_count": 2,
   "metadata": {},
   "outputs": [],
   "source": [
    "mp_holistic = mp.solutions.holistic \n",
    "mp_drawing = mp.solutions.drawing_utils"
   ]
  },
  {
   "cell_type": "code",
   "execution_count": 3,
   "metadata": {},
   "outputs": [],
   "source": [
    "def midpoint(p1, p2):\n",
    "        return np.array([(p1[0]+p2[0])/2, (p1[1]+p2[1])/2])"
   ]
  },
  {
   "cell_type": "code",
   "execution_count": 4,
   "metadata": {},
   "outputs": [],
   "source": [
    "def midpoint3d(p1, p2):\n",
    "        return np.array([(p1[0]+p2[0])/2, (p1[1]+p2[1])/2, (p1[2]+p2[2])/2])"
   ]
  },
  {
   "cell_type": "code",
   "execution_count": 5,
   "metadata": {},
   "outputs": [],
   "source": [
    "def project(point):\n",
    "  px, py, pz = point\n",
    "\n",
    "  x1, y1 = (0, 0)\n",
    "  x2, y2 = (0, 0)\n",
    "\n",
    "  if not any(c > 1 or c < 0 for c in point[:2]):\n",
    "    return point\n",
    "  if(px < 0 and py < 0):\n",
    "    return np.array([0, 0, pz])\n",
    "  if(px < 0 and py > 1):\n",
    "    return np.array([0, 1, pz])\n",
    "  if(px > 1 and py > 1):\n",
    "    return np.array([1, 1, pz])\n",
    "  if(px > 1 and py < 0):\n",
    "    return np.array([1, 0, pz])\n",
    "  if(px < 0):\n",
    "    x1, y1 = (0, 1)\n",
    "    x2, y2 = (0, 0)\n",
    "  if(px > 1):\n",
    "    x1, y1 = (1, 1)\n",
    "    x2, y2 = (1, 0)\n",
    "  if(py < 0):\n",
    "    x1, y1 = (1, 0)\n",
    "    x2, y2 = (0, 0)\n",
    "  if(py > 1):\n",
    "    x1, y1 = (0, 1)\n",
    "    x2, y2 = (1, 1)\n",
    "\n",
    "  dx = x2 - x1\n",
    "  dy = y2 - y1\n",
    "  \n",
    "  t = ((px - x1) * dx + (py - y1) * dy) / (dx**2 + dy**2)\n",
    "  \n",
    "  projected_x = x1 + t * dx\n",
    "  projected_y = y1 + t * dy\n",
    "  \n",
    "  return np.array([projected_x, projected_y, pz])"
   ]
  },
  {
   "cell_type": "code",
   "execution_count": 6,
   "metadata": {},
   "outputs": [
    {
     "data": {
      "text/plain": [
       "array([-1. , -0.2, -1. ])"
      ]
     },
     "execution_count": 6,
     "metadata": {},
     "output_type": "execute_result"
    }
   ],
   "source": [
    "(project([-1, 0.4, 0])-0.5)*2"
   ]
  },
  {
   "cell_type": "code",
   "execution_count": 7,
   "metadata": {},
   "outputs": [],
   "source": [
    "def extract_keypoints_3d(results, prev):\n",
    "    pose = np.array([project([landmark.x, landmark.y, landmark.z]) for landmark in results.pose_landmarks.landmark]) if results.pose_landmarks else np.zeros((33,3))\n",
    "    neck = midpoint3d(pose[11], pose[12])\n",
    "    hips = midpoint3d(pose[23], pose[24])\n",
    "    pose = np.append(pose, np.array([neck, hips]), axis = 0)[[0, 33, 12, 14, 16, 11, 13, 15, 34, 5, 2, 8, 7], :]\n",
    "    drw = pose[4] - prev[4]\n",
    "    dlw = pose[7] - prev[7]\n",
    "    lh = np.array([project([landmark.x, landmark.y, landmark.z]) for landmark in results.left_hand_landmarks.landmark]) if results.left_hand_landmarks else prev[13:34] + dlw\n",
    "    rh = np.array([project([landmark.x, landmark.y, landmark.z]) for landmark in results.right_hand_landmarks.landmark]) if results.right_hand_landmarks else prev[34:] + drw\n",
    "    kp = np.concatenate([pose, lh, rh])\n",
    "    return transform_points_to_xy_plane(kp, calculate_normal_vector(kp[2], kp[5], kp[8]))"
   ]
  },
  {
   "cell_type": "code",
   "execution_count": 8,
   "metadata": {},
   "outputs": [],
   "source": [
    "def mediapipe_detection(image, model):\n",
    "    image = cv2.cvtColor(image, cv2.COLOR_BGR2RGB) # COLOR CONVERSION BGR 2 RGB\n",
    "    image.flags.writeable = False                  # Image is no longer writeable\n",
    "    results = model.process(image)                 # Make prediction\n",
    "    image.flags.writeable = True                   # Image is now writeable \n",
    "    image = cv2.cvtColor(image, cv2.COLOR_RGB2BGR) # COLOR COVERSION RGB 2 BGR\n",
    "    return image, results"
   ]
  },
  {
   "cell_type": "code",
   "execution_count": 9,
   "metadata": {},
   "outputs": [],
   "source": [
    "def extract_keypoints_max(results):\n",
    "    keypoints = []\n",
    "    if results.pose_landmarks:\n",
    "        keypoints.append(np.array([[res.x, res.y] for res in results.pose_landmarks.landmark]))\n",
    "    if results.face_landmarks:\n",
    "        keypoints.append(np.array([[res.x, res.y] for res in results.face_landmarks.landmark]))\n",
    "    if results.left_hand_landmarks:\n",
    "        keypoints.append(np.array([[res.x, res.y] for res in results.left_hand_landmarks.landmark]))\n",
    "    if results.right_hand_landmarks:\n",
    "        keypoints.append(np.array([[res.x, res.y] for res in results.right_hand_landmarks.landmark]))\n",
    "    return np.concatenate(keypoints) if len(keypoints)>0 else np.array([])"
   ]
  },
  {
   "cell_type": "code",
   "execution_count": 10,
   "metadata": {},
   "outputs": [],
   "source": [
    "def compute_difference(x):\n",
    "    diff = []\n",
    "\n",
    "    for i, xx in enumerate(x):\n",
    "        temp = []\n",
    "        for j, xxx in enumerate(x):\n",
    "            if i != j:\n",
    "                temp.append(xx - xxx)\n",
    "\n",
    "        diff.append(temp)\n",
    "\n",
    "    return diff\n"
   ]
  },
  {
   "cell_type": "code",
   "execution_count": 11,
   "metadata": {},
   "outputs": [],
   "source": [
    "def extract_keypoints(results):\n",
    "    pose = np.array([[landmark.x, landmark.y] for landmark in results.pose_landmarks.landmark]) if results.pose_landmarks else np.zeros((33,2))\n",
    "    neck = midpoint(pose[11], pose[12])\n",
    "    hips = midpoint(pose[23], pose[24])\n",
    "    pose = np.append(pose, np.array([neck, hips]), axis = 0)[[0, 33, 12, 14, 16, 11, 13, 15, 34, 5, 2, 8, 7], :]\n",
    "    for i, point in enumerate(pose):\n",
    "        if any(x > 1 or x < 0 for x in point):\n",
    "            pose[i] = [0, 0]\n",
    "    lh = np.array([[landmark.x, landmark.y] for landmark in results.left_hand_landmarks.landmark]) if results.left_hand_landmarks else np.zeros((21,2))\n",
    "    rh = np.array([[landmark.x, landmark.y] for landmark in results.right_hand_landmarks.landmark]) if results.right_hand_landmarks else np.zeros((21,2))\n",
    "\n",
    "    return torch.FloatTensor((np.concatenate([pose, lh, rh])-0.5)*2)"
   ]
  },
  {
   "cell_type": "code",
   "execution_count": 12,
   "metadata": {},
   "outputs": [],
   "source": [
    "def draw_landmarks(image, results):\n",
    "    mp_drawing.draw_landmarks(image, results.face_landmarks, mp_holistic.FACEMESH_TESSELATION) # Draw face connections\n",
    "    mp_drawing.draw_landmarks(image, results.pose_landmarks, mp_holistic.POSE_CONNECTIONS) # Draw pose connections\n",
    "    mp_drawing.draw_landmarks(image, results.left_hand_landmarks, mp_holistic.HAND_CONNECTIONS) # Draw left hand connections\n",
    "    mp_drawing.draw_landmarks(image, results.right_hand_landmarks, mp_holistic.HAND_CONNECTIONS) # Draw right hand connections\n",
    "    "
   ]
  },
  {
   "cell_type": "code",
   "execution_count": 13,
   "metadata": {},
   "outputs": [],
   "source": [
    "def draw_styled_landmarks(image, results):\n",
    "    # Draw face connections\n",
    "    # mp_drawing.draw_landmarks(image, results.face_landmarks, mp_holistic.FACEMESH_TESSELATION, \n",
    "    #                          mp_drawing.DrawingSpec(color=(80,110,10), thickness=1, circle_radius=1), \n",
    "    #                          mp_drawing.DrawingSpec(color=(80,256,121), thickness=1, circle_radius=1)\n",
    "    #                          ) \n",
    "    # # Draw pose connections\n",
    "    mp_drawing.draw_landmarks(image, results.pose_landmarks, mp_holistic.POSE_CONNECTIONS,\n",
    "                             mp_drawing.DrawingSpec(color=(80,22,10), thickness=2, circle_radius=4), \n",
    "                             mp_drawing.DrawingSpec(color=(80,44,121), thickness=2, circle_radius=2)\n",
    "                             ) \n",
    "    # Draw left hand connections\n",
    "    mp_drawing.draw_landmarks(image, results.left_hand_landmarks, mp_holistic.HAND_CONNECTIONS, \n",
    "                             mp_drawing.DrawingSpec(color=(121,22,76), thickness=2, circle_radius=4), \n",
    "                             mp_drawing.DrawingSpec(color=(121,44,250), thickness=2, circle_radius=2)\n",
    "                             ) \n",
    "    # Draw right hand connections  \n",
    "    mp_drawing.draw_landmarks(image, results.right_hand_landmarks, mp_holistic.HAND_CONNECTIONS, \n",
    "                             mp_drawing.DrawingSpec(color=(245,117,66), thickness=2, circle_radius=4), \n",
    "                             mp_drawing.DrawingSpec(color=(245,66,230), thickness=2, circle_radius=2)\n",
    "                             ) "
   ]
  },
  {
   "cell_type": "code",
   "execution_count": 14,
   "metadata": {},
   "outputs": [],
   "source": [
    "def generate_bounding_box(keypoints, frame):\n",
    "  transform = transforms.Compose([\n",
    "          transforms.ToPILImage(),\n",
    "          transforms.Resize((224, 325)),\n",
    "          transforms.CenterCrop(224),\n",
    "          transforms.ToTensor()\n",
    "      ])\n",
    "  input_img = transform(frame)\n",
    "  if keypoints.size > 0:\n",
    "    H, W, _ = frame.shape\n",
    "    x_vals = []\n",
    "    y_vals = []\n",
    "    for lm in keypoints:\n",
    "      x = int(lm[0] * W)\n",
    "      y = int(lm[1] * H)\n",
    "      x_vals.append(x)\n",
    "      y_vals.append(y)\n",
    "          \n",
    "      min_x = min(x_vals) - 60 if min(x_vals) - 60 >= 0 else 0\n",
    "      max_x = max(x_vals) + 60 if max(x_vals) + 60 <= W else W\n",
    "      min_y = min(y_vals) - 60 if min(y_vals) - 60 >= 0 else 0\n",
    "      max_y = max(y_vals) + 60 if max(y_vals) + 60 <= H else H\n",
    "\n",
    "\n",
    "      transform = transforms.Compose([\n",
    "          transforms.ToPILImage(),\n",
    "          transforms.Lambda(lambda img: transforms.functional.crop(img, min_y, min_x, max_y - min_y, max_x - min_x)),\n",
    "          transforms.Resize((224, 224)),\n",
    "          transforms.ToTensor()\n",
    "      ])\n",
    "\n",
    "      input_img = transform(frame)\n",
    "  return input_img\n",
    "\n",
    "      # results = pose.process(frame).pose_landmarks\n",
    "      # if results:\n",
    "      #   # keypoints = np.array([[res.x, res.y] for res in results.landmark])\n",
    "      #   rs = results.landmark[mp_pose.PoseLandmark.RIGHT_SHOULDER.value]\n",
    "      #   ls = results.landmark[mp_pose.PoseLandmark.LEFT_SHOULDER.value]\n",
    "\n",
    "      # mp_drawing.draw_landmarks(frame, results, mp.solutions.pose.POSE_CONNECTIONS,\n",
    "      #                          mp_drawing.DrawingSpec(color=(80,22,10), thickness=2, circle_radius=4), \n",
    "      #                          mp_drawing.DrawingSpec(color=(80,44,121), thickness=2, circle_radius=2)\n",
    "      #                          ) \n",
    "      # cv2.rectangle(image, (min_x, min_y), (max_x, max_y), (0, 0, 0), 4)"
   ]
  },
  {
   "cell_type": "code",
   "execution_count": 15,
   "metadata": {},
   "outputs": [],
   "source": [
    "def vid_to_tensor(video_path, start=0, num=-1):\n",
    "  vidcap = cv2.VideoCapture(video_path)\n",
    "  vidcap.set(cv2.CAP_PROP_POS_FRAMES, start)\n",
    "  if num == -1:\n",
    "    num = int(vidcap.get(cv2.CAP_PROP_FRAME_COUNT))\n",
    "\n",
    "  frames = []\n",
    "  for offset in range(num):\n",
    "    success, img = vidcap.read()\n",
    "    if not success:\n",
    "      continue\n",
    "\n",
    "    w, h, c = img.shape\n",
    "    sc = 224 / w\n",
    "    img = cv2.resize(img, dsize=(0, 0), fx=sc, fy=sc)\n",
    "    img = (img / 255.) * 2 - 1\n",
    "    img = transforms.CenterCrop(224)(torch.Tensor(img.transpose([2, 0, 1])))\n",
    "    frames.append(img)\n",
    "  \n",
    "  return torch.from_numpy(np.expand_dims(np.asarray(frames, dtype=np.float32).transpose([1, 0, 2, 3]), axis = 0))"
   ]
  },
  {
   "cell_type": "code",
   "execution_count": 16,
   "metadata": {},
   "outputs": [],
   "source": [
    "def vid_to_mp(video_path, start=0, num=-1):\n",
    "  vidcap = cv2.VideoCapture(video_path)\n",
    "  vidcap.set(cv2.CAP_PROP_POS_FRAMES, start)\n",
    "  if num == -1:\n",
    "    num = int(vidcap.get(cv2.CAP_PROP_FRAME_COUNT))\n",
    "\n",
    "  frames = []\n",
    "  prev = np.zeros((55, 3))\n",
    "  mp_holistic = mp.solutions.holistic \n",
    "  with mp_holistic.Holistic(min_detection_confidence=0.5, min_tracking_confidence=0.5) as holistic:\n",
    "    for offset in range(num):\n",
    "      success, img = vidcap.read()\n",
    "      if not success:\n",
    "        continue\n",
    "\n",
    "      w, h, c = img.shape\n",
    "\n",
    "      image, results = mediapipe_detection(img, holistic)\n",
    "\n",
    "      keypoints = extract_keypoints_3d(results, prev)\n",
    "      prev = keypoints\n",
    "      frames.append(keypoints)\n",
    "    \n",
    "  return frames"
   ]
  },
  {
   "cell_type": "code",
   "execution_count": 17,
   "metadata": {},
   "outputs": [],
   "source": [
    "def tensor_to_imgs(input):\n",
    "  img = np.array(input[0].flip(0))\n",
    "  img = (img + 1) / 2\n",
    "  return img.transpose([1, 2, 3, 0])"
   ]
  },
  {
   "cell_type": "code",
   "execution_count": 18,
   "metadata": {},
   "outputs": [],
   "source": [
    "def from_video(vid_path, model, labels):\n",
    "  sentence = []\n",
    "  threshold = 0.05\n",
    "\n",
    "  video = vid_to_tensor(vid_path)\n",
    "  frames = video.shape[2]\n",
    "  i = 0\n",
    "  while i < frames:\n",
    "    end1 = 30 if i + 30 < frames else frames - i\n",
    "    end2 = 60 if i + 60 < frames else frames - i\n",
    "\n",
    "    word = ''\n",
    "\n",
    "    if end1 > 10:\n",
    "      chunk1 = video[:, :, i:i+end1, :, :]\n",
    "      per_frame_logits1 = model(chunk1)\n",
    "      predictions1 = torch.max(per_frame_logits1, dim=2)[0]\n",
    "      p1, k1 = torch.nn.functional.softmax(predictions1, dim = 1).topk(1, dim = 1)\n",
    "      if(p1[0,0].item()>threshold):\n",
    "        print('1')\n",
    "        i = i+end1\n",
    "        word = labels[k1[0,0].item()]\n",
    "    if end2 > 10 and word != '':\n",
    "      chunk2 = video[:, :, i:i+end2, :, :]\n",
    "      per_frame_logits2 = model(chunk2)\n",
    "      predictions2 = torch.max(per_frame_logits2, dim=2)[0]\n",
    "      p2, k2 = torch.nn.functional.softmax(predictions2, dim = 1).topk(1, dim = 1)\n",
    "      if(p2[0,0].item()>threshold):\n",
    "        print('2')\n",
    "        i = i+end2\n",
    "        word = labels[k2[0,0].item()]\n",
    "    if word == '':\n",
    "      i+=5\n",
    "    else:\n",
    "      sentence.append(word)\n",
    "      \n",
    "    if(end1 != 30):\n",
    "      break\n",
    "\n",
    "  return sentence"
   ]
  },
  {
   "cell_type": "code",
   "execution_count": 19,
   "metadata": {},
   "outputs": [],
   "source": [
    "def from_recording(model, labels):\n",
    "  sequence = []\n",
    "  record = False\n",
    "  cap = cv2.VideoCapture(0)\n",
    "  \n",
    "  while cap.isOpened():\n",
    "    success, frame = cap.read()\n",
    "    if record:\n",
    "      img = frame\n",
    "      w, h, c = img.shape\n",
    "      sc = 224 / w\n",
    "      img = cv2.resize(img, dsize=(0, 0), fx=sc, fy=sc)\n",
    "      img = (img / 255.) * 2 - 1\n",
    "      img = transforms.CenterCrop(224)(torch.Tensor(img.transpose([2, 0, 1])))\n",
    "      sequence.append(img)\n",
    "\n",
    "    cv2.imshow('OpenCV Feed', frame)\n",
    "\n",
    "    key = cv2.waitKey(10)\n",
    "    if key & 0xFF == ord(' '):\n",
    "      if not record:\n",
    "        print(\"Recording...\")\n",
    "        record = True\n",
    "      else:\n",
    "        print(\"End recording\")\n",
    "        break\n",
    "    if key & 0xFF == ord('q'):\n",
    "      break\n",
    "  cap.release()\n",
    "  cv2.destroyAllWindows()\n",
    "\n",
    "  video = torch.from_numpy(np.expand_dims(np.asarray(sequence, dtype=np.float32).transpose([1, 0, 2, 3]), axis = 0))\n",
    "\n",
    "  sentence = []\n",
    "  threshold = 0.05\n",
    "  frames = video.shape[2]\n",
    "  i = 0\n",
    "  while i < frames:\n",
    "    end1 = 30 if i + 30 < frames else frames - i\n",
    "    end2 = 60 if i + 60 < frames else frames - i\n",
    "\n",
    "    word = ''\n",
    "\n",
    "    if end1 > 10:\n",
    "      chunk1 = video[:, :, i:i+end1, :, :]\n",
    "      per_frame_logits1 = model(chunk1)\n",
    "      predictions1 = torch.max(per_frame_logits1, dim=2)[0]\n",
    "      p1, k1 = torch.nn.functional.softmax(predictions1, dim = 1).topk(1, dim = 1)\n",
    "      if(p1[0,0].item()>threshold):\n",
    "        i = i+end1\n",
    "        word = labels[k1[0,0].item()]\n",
    "    if end2 > 10 and word != '':\n",
    "      chunk2 = video[:, :, i:i+end2, :, :]\n",
    "      per_frame_logits2 = model(chunk2)\n",
    "      predictions2 = torch.max(per_frame_logits2, dim=2)[0]\n",
    "      p2, k2 = torch.nn.functional.softmax(predictions2, dim = 1).topk(1, dim = 1)\n",
    "      if(p2[0,0].item()>threshold):\n",
    "        i = i+end2\n",
    "        word = labels[k2[0,0].item()]\n",
    "    if word == '':\n",
    "      i+=5\n",
    "    else:\n",
    "      sentence.append(word)\n",
    "\n",
    "    \n",
    "    if(end1 != 30):\n",
    "      break\n",
    "\n",
    "  return sentence"
   ]
  },
  {
   "cell_type": "code",
   "execution_count": 20,
   "metadata": {},
   "outputs": [],
   "source": [
    "def read_pose_file(filepath):\n",
    "    body_pose_exclude = {9, 10, 11, 12, 13, 14, 19, 20, 21, 22, 23, 24}\n",
    "\n",
    "    try:\n",
    "        content = json.load(open(filepath))[\"people\"][0]\n",
    "    except IndexError:\n",
    "        return None\n",
    "\n",
    "    path_parts = os.path.split(filepath)\n",
    "\n",
    "    frame_id = path_parts[1][:11]\n",
    "    vid = os.path.split(path_parts[0])[-1]\n",
    "\n",
    "    save_to = os.path.join('/home/dxli/workspace/nslt/code/Pose-GCN/posegcn/features', vid)\n",
    "\n",
    "    try:\n",
    "        ft = torch.load(os.path.join(save_to, frame_id + '_ft.pt'))\n",
    "\n",
    "        xy = ft[:, :2]\n",
    "        # angles = torch.atan(ft[:, 110:]) / 90\n",
    "        # ft = torch.cat([xy, angles], dim=1)\n",
    "        return xy\n",
    "\n",
    "    except FileNotFoundError:\n",
    "        print(filepath)\n",
    "        body_pose = content[\"pose_keypoints_2d\"]\n",
    "        left_hand_pose = content[\"hand_left_keypoints_2d\"]\n",
    "        right_hand_pose = content[\"hand_right_keypoints_2d\"]\n",
    "\n",
    "        body_pose.extend(left_hand_pose)\n",
    "        body_pose.extend(right_hand_pose)\n",
    "\n",
    "        x = [v for i, v in enumerate(body_pose) if i % 3 == 0 and i // 3 not in body_pose_exclude]\n",
    "        y = [v for i, v in enumerate(body_pose) if i % 3 == 1 and i // 3 not in body_pose_exclude]\n",
    "        # conf = [v for i, v in enumerate(body_pose) if i % 3 == 2 and i // 3 not in body_pose_exclude]\n",
    "\n",
    "        x = 2 * ((torch.FloatTensor(x) / 256.0) - 0.5)\n",
    "        y = 2 * ((torch.FloatTensor(y) / 256.0) - 0.5)\n",
    "        # conf = torch.FloatTensor(conf)\n",
    "\n",
    "        x_diff = torch.FloatTensor(compute_difference(x)) / 2\n",
    "        y_diff = torch.FloatTensor(compute_difference(y)) / 2\n",
    "\n",
    "        zero_indices = (x_diff == 0).nonzero()\n",
    "\n",
    "        orient = y_diff / x_diff\n",
    "        orient[zero_indices] = 0\n",
    "\n",
    "        xy = torch.stack([x, y]).transpose_(0, 1)\n",
    "\n",
    "        ft = torch.cat([xy, x_diff, y_diff, orient], dim=1)\n",
    "\n",
    "        path_parts = os.path.split(filepath)\n",
    "\n",
    "        frame_id = path_parts[1][:11]\n",
    "        vid = os.path.split(path_parts[0])[-1]\n",
    "\n",
    "        # save_to = os.path.join('code/Pose-GCN/posegcn/features', vid)\n",
    "        # if not os.path.exists(save_to):\n",
    "        #     os.mkdir(save_to)\n",
    "        # torch.save(ft, os.path.join(save_to, frame_id + '_ft.pt'))\n",
    "\n",
    "        xy = ft[:, :2]\n",
    "        # angles = torch.atan(ft[:, 110:]) / 90\n",
    "        # ft = torch.cat([xy, angles], dim=1)\n",
    "        #\n",
    "        return xy"
   ]
  },
  {
   "cell_type": "code",
   "execution_count": 21,
   "metadata": {},
   "outputs": [],
   "source": [
    "def sequential_sampling(frame_start, frame_end, num_samples):\n",
    "    \"\"\"Keep sequentially ${num_samples} frames from the whole video sequence by uniformly skipping frames.\"\"\"\n",
    "    num_frames = frame_end - frame_start + 1\n",
    "\n",
    "    frames_to_sample = []\n",
    "    if num_frames > num_samples:\n",
    "        frames_skip = set()\n",
    "\n",
    "        num_skips = num_frames - num_samples\n",
    "        interval = num_frames // num_skips\n",
    "\n",
    "        for i in range(frame_start, frame_end + 1):\n",
    "            if i % interval == 0 and len(frames_skip) <= num_skips:\n",
    "                frames_skip.add(i)\n",
    "\n",
    "        for i in range(frame_start, frame_end + 1):\n",
    "            if i not in frames_skip:\n",
    "                frames_to_sample.append(i)\n",
    "    else:\n",
    "        frames_to_sample = list(range(frame_start, frame_end + 1))\n",
    "\n",
    "    return frames_to_sample"
   ]
  },
  {
   "cell_type": "code",
   "execution_count": 22,
   "metadata": {},
   "outputs": [],
   "source": [
    "def load_poses(video_id, frame_start, frame_end, num_samples):\n",
    "        \"\"\" Load frames of a video. Start and end indices are provided just to avoid listing and sorting the directory unnecessarily.\n",
    "         \"\"\"\n",
    "        poses = []\n",
    "        \n",
    "        frames_to_sample = sequential_sampling(frame_start, frame_end, num_samples)\n",
    "\n",
    "        for i in frames_to_sample:\n",
    "            pose_path = os.path.join(os.path.join('..', '..', 'WLASL', 'data', 'pose_per_individual_videos'), video_id, 'image_{}_keypoints.json'.format(str(i).zfill(5)))\n",
    "            # pose = cv2.imread(frame_path, cv2.COLOR_BGR2RGB)\n",
    "            pose = read_pose_file(pose_path)\n",
    "\n",
    "            if pose is not None:\n",
    "                poses.append(pose)\n",
    "            else:\n",
    "                try:\n",
    "                    poses.append(poses[-1])\n",
    "                except IndexError:\n",
    "                    print(pose_path)\n",
    "\n",
    "        pad = None\n",
    "\n",
    "        # if len(frames_to_sample) < num_samples:\n",
    "        # if len(poses) < num_samples:\n",
    "        #     num_padding = num_samples - len(frames_to_sample)\n",
    "        #     last_pose = poses[-1]\n",
    "        #     pad = last_pose.repeat(1, num_padding)\n",
    "\n",
    "        # poses_across_time = torch.cat(poses, dim=1)\n",
    "        # if pad is not None:\n",
    "        #     poses_across_time = torch.cat([poses_across_time, pad], dim=1)\n",
    "\n",
    "        return poses"
   ]
  },
  {
   "cell_type": "code",
   "execution_count": 23,
   "metadata": {},
   "outputs": [],
   "source": [
    "def calculate_normal_vector(point1, point2, point3):\n",
    "    vector1 = np.array(point2) - np.array(point1)\n",
    "    vector2 = np.array(point3) - np.array(point1)\n",
    "    normal_vector = np.cross(vector1, vector2)\n",
    "    magnitude = np.linalg.norm(normal_vector)\n",
    "    \n",
    "    return normal_vector/magnitude"
   ]
  },
  {
   "cell_type": "code",
   "execution_count": 24,
   "metadata": {},
   "outputs": [],
   "source": [
    "def transform_points_to_xy_plane(points, normal_vector):\n",
    "    # Normalize the normal vector\n",
    "    normal_vector = normal_vector / np.linalg.norm(normal_vector)\n",
    "    \n",
    "    # Calculate the rotation matrix to align the normal vector with the z-axis\n",
    "    z_axis = np.array([0, 0, 1])\n",
    "    if np.allclose(normal_vector, z_axis):\n",
    "        # If the normal vector is already aligned with the z-axis, no rotation is needed\n",
    "        rotation_matrix = np.eye(3)\n",
    "    else:\n",
    "        # Calculate the rotation axis and angle\n",
    "        rotation_axis = np.cross(normal_vector, z_axis)\n",
    "        rotation_angle = np.arccos(np.dot(normal_vector, z_axis))\n",
    "        \n",
    "        # Create the rotation matrix\n",
    "        rotation_matrix = np.eye(3) + np.sin(rotation_angle) * np.array([[0, -rotation_axis[2], rotation_axis[1]],\n",
    "                                                                        [rotation_axis[2], 0, -rotation_axis[0]],\n",
    "                                                                        [-rotation_axis[1], rotation_axis[0], 0]]) + \\\n",
    "                                         (1 - np.cos(rotation_angle)) * np.outer(rotation_axis, rotation_axis)\n",
    "    \n",
    "    # Apply the rotation matrix to the original points\n",
    "    transformed_points = np.dot(rotation_matrix, points.T).T\n",
    "    \n",
    "    return transformed_points"
   ]
  },
  {
   "cell_type": "code",
   "execution_count": 90,
   "metadata": {},
   "outputs": [],
   "source": [
    "# posefile = read_pose_file(os.path.join('..', '..', 'WLASL', 'data', 'pose_per_individual_videos', '05729', 'image_00010_keypoints.json'))\n",
    "vid = vid_to_mp(os.path.join('..', '..', 'WLASL', 'data', 'WLASL2000', '00339.mp4'))\n",
    "# vidw = load_poses('05729', 1, 45, 50)"
   ]
  },
  {
   "cell_type": "code",
   "execution_count": 46,
   "metadata": {},
   "outputs": [],
   "source": [
    "%aimport stream_utils \n",
    "\n",
    "def from_stream(cmodel, labels):\n",
    "  fill_mask = transformers.pipeline(\"fill-mask\", model=\"distilroberta-base\")\n",
    "  tokenizer = GPT2Tokenizer.from_pretrained(\"gpt2\")\n",
    "  nlp = GPT2LMHeadModel.from_pretrained(\"gpt2\")\n",
    "  display_sentence = \"\"\n",
    "  sequence = []\n",
    "  sentence = []\n",
    "  threshold = 0.9\n",
    "  prev = np.zeros((55, 3))\n",
    "  mp_holistic = mp.solutions.holistic \n",
    "  cap = cv2.VideoCapture(0)\n",
    "  with mp_holistic.Holistic(min_detection_confidence=0.5, min_tracking_confidence=0.5) as holistic:\n",
    "    while cap.isOpened():\n",
    "      success, frame = cap.read()\n",
    "      \n",
    "      image = frame\n",
    "      w, h, c = image.shape\n",
    "\n",
    "      image = cv2.cvtColor(image, cv2.COLOR_BGR2RGB)\n",
    "      image.flags.writeable = False                  \n",
    "      results = holistic.process(image)                 \n",
    "      image.flags.writeable = True                   \n",
    "      image = cv2.cvtColor(image, cv2.COLOR_RGB2BGR) \n",
    "\n",
    "      keypoints = stream_utils.extract_keypoints_3d(results, prev)\n",
    "      prev = keypoints\n",
    "\n",
    "      sequence.append(torch.FloatTensor((keypoints[:, (0, 1)]-0.5)*2))\n",
    "      sequence = sequence[-50:]\n",
    "      \n",
    "      if len(sequence) == 50:\n",
    "        input = torch.cat(sequence,  dim = 1).unsqueeze(0)\n",
    "        per_frame_logits = cmodel(input)\n",
    "        p, k  = torch.nn.functional.softmax(per_frame_logits, dim = 1).topk(10, dim = 1)\n",
    "        if p[0,0].item()>threshold: \n",
    "          word = labels[k[0,0].item()]\n",
    "          input_ids = tokenizer.encode(display_sentence, return_tensors=\"pt\")\n",
    "          output = nlp.generate(input_ids, max_length=1, num_return_sequences=1, pad_token_id=tokenizer.eos_token_id)\n",
    "          predicted_word = tokenizer.decode(output[0][-1], skip_special_tokens=True)[1:]\n",
    "          for i, n in enumerate(k[0]):\n",
    "            if labels[n.item()]==predicted_word:\n",
    "              word = predicted_word\n",
    "\n",
    "          if len(sentence) > 0: \n",
    "            if word != sentence[-1]:\n",
    "              sentence.append(word)\n",
    "              fill = fill_mask(display_sentence + f' <mask> {word}')[0]\n",
    "              display_sentence = fill['sequence'] if fill['score'] > 0.05 else f\"{display_sentence} {word}\"\n",
    "          else:\n",
    "            sentence.append(word)\n",
    "\n",
    "      cv2.rectangle(image, (0,0), (640, 40), (0, 0, 0), -1)\n",
    "      cv2.putText(image, display_sentence, (3,30), cv2.FONT_HERSHEY_SIMPLEX, 1, (255, 255, 255), 2, cv2.LINE_AA)\n",
    "      cv2.imshow('OpenCV Feed', image)\n",
    "\n",
    "      key = cv2.waitKey(10)\n",
    "      if key & 0xFF == ord('q'):\n",
    "        break\n",
    "  cap.release()\n",
    "  cv2.destroyAllWindows()\n",
    "  return sentence"
   ]
  },
  {
   "cell_type": "code",
   "execution_count": 23,
   "metadata": {},
   "outputs": [],
   "source": [
    "weights = os.path.join('model', '2000words.pt')\n",
    "i3d = InceptionI3d(400, in_channels=3)\n",
    "i3d.replace_logits(2000)\n",
    "i3d.load_state_dict(torch.load(weights, map_location=torch.device('cpu'))) \n",
    "i3d.eval()\n",
    "with open('labels.txt', 'r') as file:\n",
    "    labels = list(map(str.strip, file.readlines()))"
   ]
  },
  {
   "cell_type": "code",
   "execution_count": 40,
   "metadata": {},
   "outputs": [
    {
     "data": {
      "text/plain": [
       "GCN_muti_att(\n",
       "  (gc1): GraphConvolution_att (100 -> 64)\n",
       "  (bn1): BatchNorm1d(3520, eps=1e-05, momentum=0.1, affine=True, track_running_stats=True)\n",
       "  (gcbs): ModuleList(\n",
       "    (0-19): 20 x GC_Block (64 -> 64)\n",
       "  )\n",
       "  (do): Dropout(p=0.3, inplace=False)\n",
       "  (act_f): Tanh()\n",
       "  (fc_out): Linear(in_features=64, out_features=100, bias=True)\n",
       ")"
      ]
     },
     "execution_count": 40,
     "metadata": {},
     "output_type": "execute_result"
    }
   ],
   "source": [
    "# %aimport tgcn_model \n",
    "with open('labels.txt', 'r') as file:\n",
    "    labels = list(map(str.strip, file.readlines()))\n",
    "tgcn = GCN_muti_att(input_feature=100, hidden_feature=64, num_class=100, p_dropout=0.3, num_stage=20)\n",
    "tgcn.load_state_dict(torch.load(os.path.join('model', '100gcn.pth'), map_location=torch.device('cpu')))\n",
    "tgcn.eval()\n",
    "# model = torch.nn.Sequential(GraphConvolution_att(100, 100, 55, 53), tgcn)#, torch.nn.BatchNorm1d(55 * 100))"
   ]
  },
  {
   "cell_type": "code",
   "execution_count": 74,
   "metadata": {},
   "outputs": [
    {
     "ename": "TypeError",
     "evalue": "expected Tensor as element 1 in argument 0, but got numpy.ndarray",
     "output_type": "error",
     "traceback": [
      "\u001b[1;31m---------------------------------------------------------------------------\u001b[0m",
      "\u001b[1;31mTypeError\u001b[0m                                 Traceback (most recent call last)",
      "Cell \u001b[1;32mIn[74], line 9\u001b[0m\n\u001b[0;32m      7\u001b[0m lh   \u001b[38;5;241m=\u001b[39m np\u001b[38;5;241m.\u001b[39marray([project([landmark\u001b[38;5;241m.\u001b[39mx, landmark\u001b[38;5;241m.\u001b[39my, landmark\u001b[38;5;241m.\u001b[39mz]) \u001b[38;5;28;01mfor\u001b[39;00m landmark \u001b[38;5;129;01min\u001b[39;00m results\u001b[38;5;241m.\u001b[39mleft_hand_landmarks\u001b[38;5;241m.\u001b[39mlandmark]) \u001b[38;5;28;01mif\u001b[39;00m results\u001b[38;5;241m.\u001b[39mleft_hand_landmarks \u001b[38;5;28;01melse\u001b[39;00m prev[\u001b[38;5;241m13\u001b[39m:\u001b[38;5;241m34\u001b[39m] \u001b[38;5;241m+\u001b[39m dlw\n\u001b[0;32m      8\u001b[0m rh \u001b[38;5;241m=\u001b[39m torch\u001b[38;5;241m.\u001b[39mFloatTensor([project([landmark\u001b[38;5;241m.\u001b[39mx, landmark\u001b[38;5;241m.\u001b[39my, landmark\u001b[38;5;241m.\u001b[39mz]) \u001b[38;5;28;01mfor\u001b[39;00m landmark \u001b[38;5;129;01min\u001b[39;00m results\u001b[38;5;241m.\u001b[39mright_hand_landmarks\u001b[38;5;241m.\u001b[39mlandmark]) \u001b[38;5;28;01mif\u001b[39;00m results\u001b[38;5;241m.\u001b[39mright_hand_landmarks \u001b[38;5;28;01melse\u001b[39;00m prev[\u001b[38;5;241m34\u001b[39m:] \u001b[38;5;241m+\u001b[39m drw\n\u001b[1;32m----> 9\u001b[0m kp \u001b[38;5;241m=\u001b[39m \u001b[43mtorch\u001b[49m\u001b[38;5;241;43m.\u001b[39;49m\u001b[43mcat\u001b[49m\u001b[43m(\u001b[49m\u001b[43m[\u001b[49m\u001b[43mpose\u001b[49m\u001b[43m,\u001b[49m\u001b[43m \u001b[49m\u001b[43mlh\u001b[49m\u001b[43m,\u001b[49m\u001b[43m \u001b[49m\u001b[43mrh\u001b[49m\u001b[43m]\u001b[49m\u001b[43m)\u001b[49m\n\u001b[0;32m     10\u001b[0m kp \u001b[38;5;241m=\u001b[39m transform_points_to_xy_plane(kp, calculate_normal_vector(kp[\u001b[38;5;241m2\u001b[39m], kp[\u001b[38;5;241m5\u001b[39m], kp[\u001b[38;5;241m8\u001b[39m]))\n",
      "\u001b[1;31mTypeError\u001b[0m: expected Tensor as element 1 in argument 0, but got numpy.ndarray"
     ]
    }
   ],
   "source": [
    "pose = torch.FloatTensor([project([landmark.x, landmark.y, landmark.z]) for landmark in results.pose_landmarks.landmark]) if results.pose_landmarks else torch.zeros((33,3))\n",
    "neck = midpoint3d(pose[11], pose[12]).unsqueeze(0)\n",
    "hips = midpoint3d(pose[23], pose[24]).unsqueeze(0)\n",
    "pose = torch.cat((pose, neck, hips), 0)[[0, 33, 12, 14, 16, 11, 13, 15, 34, 5, 2, 8, 7], :]\n",
    "drw = pose[4] - prev[4]\n",
    "dlw = pose[7] - prev[7]\n",
    "lh   = np.array([project([landmark.x, landmark.y, landmark.z]) for landmark in results.left_hand_landmarks.landmark]) if results.left_hand_landmarks else prev[13:34] + dlw\n",
    "rh = torch.FloatTensor([project([landmark.x, landmark.y, landmark.z]) for landmark in results.right_hand_landmarks.landmark]) if results.right_hand_landmarks else prev[34:] + drw\n",
    "kp = torch.cat([pose, lh, rh])\n",
    "kp = transform_points_to_xy_plane(kp, calculate_normal_vector(kp[2], kp[5], kp[8]))"
   ]
  },
  {
   "cell_type": "code",
   "execution_count": 74,
   "metadata": {},
   "outputs": [
    {
     "data": {
      "text/plain": [
       "tensor([[14108,  3797, 14720]])"
      ]
     },
     "execution_count": 74,
     "metadata": {},
     "output_type": "execute_result"
    }
   ],
   "source": [
    "input_ids"
   ]
  },
  {
   "cell_type": "code",
   "execution_count": 71,
   "metadata": {},
   "outputs": [
    {
     "data": {
      "text/plain": [
       "True"
      ]
     },
     "execution_count": 71,
     "metadata": {},
     "output_type": "execute_result"
    }
   ],
   "source": [
    "bool(results.left_hand_landmarks)"
   ]
  },
  {
   "cell_type": "code",
   "execution_count": 37,
   "metadata": {},
   "outputs": [],
   "source": [
    "per_frame_logits = model(input)"
   ]
  },
  {
   "cell_type": "code",
   "execution_count": 61,
   "metadata": {},
   "outputs": [],
   "source": [
    "p, k  = torch.nn.functional.softmax(per_frame_logits, dim = 1).topk(10, dim = 1)"
   ]
  },
  {
   "cell_type": "code",
   "execution_count": 64,
   "metadata": {},
   "outputs": [
    {
     "ename": "SyntaxError",
     "evalue": "cannot assign to function call (1342701995.py, line 1)",
     "output_type": "error",
     "traceback": [
      "\u001b[1;36m  Cell \u001b[1;32mIn[64], line 1\u001b[1;36m\u001b[0m\n\u001b[1;33m    for i, n.item() in enumerate(k[0]):\u001b[0m\n\u001b[1;37m           ^\u001b[0m\n\u001b[1;31mSyntaxError\u001b[0m\u001b[1;31m:\u001b[0m cannot assign to function call\n"
     ]
    }
   ],
   "source": [
    "for i, n in enumerate(k[0]):\n",
    "  "
   ]
  },
  {
   "cell_type": "code",
   "execution_count": 23,
   "metadata": {},
   "outputs": [
    {
     "ename": "",
     "evalue": "",
     "output_type": "error",
     "traceback": [
      "\u001b[1;31mThe Kernel crashed while executing code in the current cell or a previous cell. \n",
      "\u001b[1;31mPlease review the code in the cell(s) to identify a possible cause of the failure. \n",
      "\u001b[1;31mClick <a href='https://aka.ms/vscodeJupyterKernelCrash'>here</a> for more info. \n",
      "\u001b[1;31mView Jupyter <a href='command:jupyter.viewOutput'>log</a> for further details."
     ]
    }
   ],
   "source": [
    "per_frame_logits = tgcn(input)"
   ]
  },
  {
   "cell_type": "code",
   "execution_count": 65,
   "metadata": {},
   "outputs": [
    {
     "name": "stderr",
     "output_type": "stream",
     "text": [
      "Some weights of the model checkpoint at distilroberta-base were not used when initializing RobertaForMaskedLM: ['roberta.pooler.dense.bias', 'roberta.pooler.dense.weight']\n",
      "- This IS expected if you are initializing RobertaForMaskedLM from the checkpoint of a model trained on another task or with another architecture (e.g. initializing a BertForSequenceClassification model from a BertForPreTraining model).\n",
      "- This IS NOT expected if you are initializing RobertaForMaskedLM from the checkpoint of a model that you expect to be exactly identical (initializing a BertForSequenceClassification model from a BertForSequenceClassification model).\n"
     ]
    }
   ],
   "source": [
    "sentence = from_stream(tgcn, labels)"
   ]
  },
  {
   "cell_type": "code",
   "execution_count": 66,
   "metadata": {},
   "outputs": [
    {
     "data": {
      "text/plain": [
       "['like', 'wrong', 'need', 'like', 'need', 'pizza', 'like']"
      ]
     },
     "execution_count": 66,
     "metadata": {},
     "output_type": "execute_result"
    }
   ],
   "source": [
    "sentence"
   ]
  },
  {
   "cell_type": "code",
   "execution_count": 100,
   "metadata": {},
   "outputs": [
    {
     "data": {
      "text/plain": [
       "(0.0, 1.0)"
      ]
     },
     "execution_count": 100,
     "metadata": {},
     "output_type": "execute_result"
    },
    {
     "data": {
      "image/png": "[encoded data removed]",
      "text/plain": [
       "<Figure size 1000x1000 with 4 Axes>"
      ]
     },
     "metadata": {},
     "output_type": "display_data"
    }
   ],
   "source": [
    "f = 30\n",
    "p = 55\n",
    "\n",
    "nkp = transform_points_to_xy_plane(keypoints, calculate_normal_vector(keypoints[2], keypoints[5], keypoints[8]))\n",
    "nkpv = transform_points_to_xy_plane(vid[f], calculate_normal_vector(vid[f][2], vid[f][5], vid[f][8]))\n",
    "#[[0, 33, 12, 14, 16, 11, 13, 15, 34, 5, 2, 8, 7], :]\n",
    "\n",
    "fig, axes = plt.subplots(2, 2, figsize=(10, 10)) \n",
    "\n",
    "# Plot 1\n",
    "axes[0, 0].scatter(x = keypoints[:, 0][:p], y = keypoints[:, 1][:p])\n",
    "axes[0, 0].set_title('max')\n",
    "axes[0, 0].set_xlim(0, 1)  # Set x-axis limits\n",
    "axes[0, 0].set_ylim(0, 1)  # Set y-axis limits\n",
    "\n",
    "# Plot 1\n",
    "axes[0, 1].scatter(x = vid[f][:, 0][:p], y = vid[f][:, 1][:p])\n",
    "axes[0, 1].set_title('vid')\n",
    "axes[0, 1].set_xlim(0, 1)  # Set x-axis limits\n",
    "axes[0, 1].set_ylim(0, 1)  # Set y-axis limits\n",
    "\n",
    "# Plot 2\n",
    "axes[1, 0].scatter(x = kp[:, 0][:p], y = kp[:, 1][:p])\n",
    "axes[1, 0].set_title('proj')\n",
    "axes[1, 0].set_xlim(-1, 1)  # Set x-axis limits\n",
    "axes[1, 0].set_ylim(-1, 1)  # Set y-axis limits\n",
    "\n",
    "# Plot 2\n",
    "axes[1, 1].scatter(x = nkpv[:, 0][:p], y = nkpv[:, 1][:p])\n",
    "axes[1, 1].set_title('proj')\n",
    "axes[1, 1].set_xlim(0, 1)  # Set x-axis limits\n",
    "axes[1, 1].set_ylim(0, 1)  # Set y-axis limits"
   ]
  },
  {
   "cell_type": "code",
   "execution_count": 154,
   "metadata": {},
   "outputs": [
    {
     "name": "stdout",
     "output_type": "stream",
     "text": [
      "tensor([0.3390, 0.4476, 0.0785]) tensor([0.5702, 0.4437, 0.0415]) tensor([4.4133e-01, 9.3751e-01, 8.7203e-04])\n",
      "[0.1591896  0.12204935 0.97967476]\n"
     ]
    }
   ],
   "source": [
    "norm = calculate_normal_vector(keypoints[2], keypoints[5], keypoints[8])\n",
    "mag = np.linalg.norm(norm)\n",
    "print(keypoints[2], keypoints[5], keypoints[8])\n",
    "print(norm/mag)"
   ]
  },
  {
   "cell_type": "code",
   "execution_count": 187,
   "metadata": {},
   "outputs": [
    {
     "data": {
      "text/plain": [
       "tensor([1.0388, 0.6672, 0.0525])"
      ]
     },
     "execution_count": 187,
     "metadata": {},
     "output_type": "execute_result"
    }
   ],
   "source": [
    "prev[32]"
   ]
  },
  {
   "cell_type": "code",
   "execution_count": null,
   "metadata": {},
   "outputs": [],
   "source": [
    "def calculate_normal_vector(point1, point2, point3):\n",
    "    # Calculate two vectors on the plane\n",
    "    vector1 = np.array(point2) - np.array(point1)\n",
    "    vector2 = np.array(point3) - np.array(point1)\n",
    "    \n",
    "    # Calculate the cross product of the two vectors to get the normal vector\n",
    "    normal_vector = np.cross(vector1, vector2)\n",
    "    \n",
    "    return normal_vector\n",
    "\n",
    "def transform_points_to_xy_plane(points, normal_vector):\n",
    "    # Normalize the normal vector\n",
    "    normal_vector = normal_vector / np.linalg.norm(normal_vector)\n",
    "    \n",
    "    # Calculate the rotation matrix to align the normal vector with the z-axis\n",
    "    z_axis = np.array([0, 0, 1])\n",
    "    if np.allclose(normal_vector, z_axis):\n",
    "        # If the normal vector is already aligned with the z-axis, no rotation is needed\n",
    "        rotation_matrix = np.eye(3)\n",
    "    else:\n",
    "        # Calculate the rotation axis and angle\n",
    "        rotation_axis = np.cross(normal_vector, z_axis)\n",
    "        rotation_angle = np.arccos(np.dot(normal_vector, z_axis))\n",
    "        \n",
    "        # Create the rotation matrix\n",
    "        rotation_matrix = np.eye(3) + np.sin(rotation_angle) * np.array([[0, -rotation_axis[2], rotation_axis[1]],\n",
    "                                                                        [rotation_axis[2], 0, -rotation_axis[0]],\n",
    "                                                                        [-rotation_axis[1], rotation_axis[0], 0]]) + \\\n",
    "                                         (1 - np.cos(rotation_angle)) * np.outer(rotation_axis, rotation_axis)\n",
    "    \n",
    "    # Apply the rotation matrix to the original points\n",
    "    transformed_points = np.dot(rotation_matrix, points.T).T\n",
    "    \n",
    "    return transformed_points\n",
    "\n",
    "# Example usage:\n",
    "points = np.array([[1, 0, 0], [0, 1, 0], [0, 0, 1]])  # Example points\n",
    "normal_vector = np.array([1, 1, 1])  # Example normal vector\n",
    "transformed_points = transform_points_to_xy_plane(points, normal_vector)\n",
    "print(\"Transformed points:\\n\", transformed_points)"
   ]
  },
  {
   "cell_type": "code",
   "execution_count": 125,
   "metadata": {},
   "outputs": [],
   "source": [
    "import time\n",
    "import requests\n",
    "\n",
    "while True:\n",
    "    try:\n",
    "        nlp = pipeline(\"k2t\")\n",
    "        break\n",
    "    except Exception as e:\n",
    "        time.sleep(1)\n",
    "\n",
    "nlp = pipeline(\"k2t\")"
   ]
  },
  {
   "cell_type": "code",
   "execution_count": 129,
   "metadata": {},
   "outputs": [
    {
     "data": {
      "text/plain": [
       "'The cousin of the cousin called New Delhi was called the cousin.'"
      ]
     },
     "execution_count": 129,
     "metadata": {},
     "output_type": "execute_result"
    }
   ],
   "source": [
    "nlp(['cousin', 'hungry', 'New Delhi'])"
   ]
  },
  {
   "cell_type": "code",
   "execution_count": 49,
   "metadata": {},
   "outputs": [],
   "source": [
    "from transformers import GPT2Tokenizer, GPT2LMHeadModel\n",
    "\n",
    "# Load pre-trained GPT-2 tokenizer and model\n",
    "while True:\n",
    "    try:\n",
    "        tokenizer = GPT2Tokenizer.from_pretrained(\"gpt2\")\n",
    "        break\n",
    "    except Exception as e:\n",
    "        time.sleep(1)\n",
    "\n",
    "while True:\n",
    "    try:\n",
    "        model = GPT2LMHeadModel.from_pretrained(\"gpt2\")\n",
    "        break\n",
    "    except Exception as e:\n",
    "        time.sleep(1)"
   ]
  },
  {
   "cell_type": "code",
   "execution_count": 178,
   "metadata": {},
   "outputs": [
    {
     "name": "stdout",
     "output_type": "stream",
     "text": [
      "Output 1: Cat| hungry is a cat.\n",
      "\n",
      "The cat is a cat.\n",
      "\n",
      "The cat is\n"
     ]
    }
   ],
   "source": [
    "\n",
    "# Encode input sentence\n",
    "input_sentence = nlp(['cat', 'hungry'])\n",
    "input_ids = tokenizer.encode(input_sentence, return_tensors=\"pt\")\n",
    "\n",
    "# Generate the next word\n",
    "output = model.generate(input_ids, max_length=20, num_return_sequences=1, pad_token_id=tokenizer.eos_token_id)\n",
    "\n",
    "for i, sample_output in enumerate(output):\n",
    "    print(f\"Output {i+1}: {tokenizer.decode(sample_output, skip_special_tokens=True)}\")\n"
   ]
  },
  {
   "cell_type": "code",
   "execution_count": null,
   "metadata": {},
   "outputs": [],
   "source": [
    "\n",
    "# Decode the generated output\n",
    "predicted_token_id = output[0][-1].item()\n",
    "predicted_word = tokenizer.decode([predicted_token_id])\n",
    "\n",
    "print(\"Predicted next word:\", predicted_word)"
   ]
  },
  {
   "cell_type": "code",
   "execution_count": 28,
   "metadata": {},
   "outputs": [
    {
     "name": "stderr",
     "output_type": "stream",
     "text": [
      "Some weights of the model checkpoint at distilroberta-base were not used when initializing RobertaForMaskedLM: ['roberta.pooler.dense.bias', 'roberta.pooler.dense.weight']\n",
      "- This IS expected if you are initializing RobertaForMaskedLM from the checkpoint of a model trained on another task or with another architecture (e.g. initializing a BertForSequenceClassification model from a BertForPreTraining model).\n",
      "- This IS NOT expected if you are initializing RobertaForMaskedLM from the checkpoint of a model that you expect to be exactly identical (initializing a BertForSequenceClassification model from a BertForSequenceClassification model).\n"
     ]
    }
   ],
   "source": [
    "import transformers\n",
    "# Load the fill-mask pipeline\n",
    "\n",
    "while True:\n",
    "    try:\n",
    "        fill_mask = transformers.pipeline(\"fill-mask\", model=\"distilroberta-base\")\n",
    "        break\n",
    "    except Exception as e:\n",
    "        time.sleep(1)\n",
    "\n",
    "fill_mask = transformers.pipeline(\"fill-mask\", model=\"distilroberta-base\")\n"
   ]
  },
  {
   "cell_type": "code",
   "execution_count": 70,
   "metadata": {},
   "outputs": [
    {
     "name": "stdout",
     "output_type": "stream",
     "text": [
      "Your cat hungry\n",
      "Asian cat hungry\n",
      "Big cat hungry\n",
      "Black cat hungry\n",
      "Keeping cat hungry\n"
     ]
    }
   ],
   "source": [
    "\n",
    "# Input sentence with placeholders for missing words\n",
    "input_sentence = \"<mask> cat hungry\"\n",
    "\n",
    "# Use the fill-mask pipeline to fill in the missing words\n",
    "filled_sentence = fill_mask(input_sentence)\n",
    "\n",
    "# Print the filled sentence options\n",
    "for result in filled_sentence:\n",
    "    print(result['sequence'])\n"
   ]
  },
  {
   "cell_type": "code",
   "execution_count": 73,
   "metadata": {},
   "outputs": [
    {
     "data": {
      "text/plain": [
       "'Your cat hungry'"
      ]
     },
     "execution_count": 73,
     "metadata": {},
     "output_type": "execute_result"
    }
   ],
   "source": [
    "filled_sentence[0]['sequence']"
   ]
  },
  {
   "cell_type": "code",
   "execution_count": 75,
   "metadata": {},
   "outputs": [
    {
     "name": "stdout",
     "output_type": "stream",
     "text": [
      "Output 1: your cat hungry for\n"
     ]
    }
   ],
   "source": [
    "\n",
    "input_sentence =  'your cat hungry'#filled_sentence[0]['sequence']\n",
    "input_ids = tokenizer.encode(input_sentence, return_tensors=\"pt\")\n",
    "output = model.generate(input_ids, max_length=len(input_ids[0])+1, num_return_sequences=1, pad_token_id=tokenizer.eos_token_id)\n",
    "\n",
    "for i, sample_output in enumerate(output):\n",
    "    print(f\"Output {i+1}: {tokenizer.decode(sample_output, skip_special_tokens=True)}\")\n"
   ]
  },
  {
   "cell_type": "code",
   "execution_count": 185,
   "metadata": {},
   "outputs": [],
   "source": [
    "from fast_autocomplete import AutoComplete"
   ]
  },
  {
   "cell_type": "code",
   "execution_count": 54,
   "metadata": {},
   "outputs": [
    {
     "data": {
      "text/plain": [
       "tensor([[14108,  3797, 14720,   329]])"
      ]
     },
     "execution_count": 54,
     "metadata": {},
     "output_type": "execute_result"
    }
   ],
   "source": [
    "output"
   ]
  },
  {
   "cell_type": "code",
   "execution_count": 60,
   "metadata": {},
   "outputs": [
    {
     "data": {
      "text/plain": [
       "'for'"
      ]
     },
     "execution_count": 60,
     "metadata": {},
     "output_type": "execute_result"
    }
   ],
   "source": [
    "tokenizer.decode(output[0][-1], skip_special_tokens=False)[1:]"
   ]
  },
  {
   "cell_type": "code",
   "execution_count": null,
   "metadata": {},
   "outputs": [],
   "source": []
  }
 ],
 "metadata": {
  "kernelspec": {
   "display_name": "tf",
   "language": "python",
   "name": "python3"
  },
  "language_info": {
   "codemirror_mode": {
    "name": "ipython",
    "version": 3
   },
   "file_extension": ".py",
   "mimetype": "text/x-python",
   "name": "python",
   "nbconvert_exporter": "python",
   "pygments_lexer": "ipython3",
   "version": "3.10.13"
  }
 },
 "nbformat": 4,
 "nbformat_minor": 2
}
