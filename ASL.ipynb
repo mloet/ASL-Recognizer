{
 "cells": [
  {
   "cell_type": "code",
   "execution_count": 39,
   "metadata": {},
   "outputs": [],
   "source": [
    "import numpy as np \n",
    "import pandas as pd\n",
    "import os\n",
    "import matplotlib\n",
    "from matplotlib import pyplot as plt\n",
    "import tensorflow as tf\n",
    "from tensorflow.keras import layers, models\n",
    "from tensorflow.keras.preprocessing.image import ImageDataGenerator"
   ]
  },
  {
   "cell_type": "markdown",
   "metadata": {},
   "source": [
    "MNIST Model"
   ]
  },
  {
   "cell_type": "code",
   "execution_count": 53,
   "metadata": {},
   "outputs": [],
   "source": [
    "train_df = pd.read_csv(os.path.join('.', 'archive', 'sign_mnist_train', 'sign_mnist_train.csv'))\n",
    "test_df = pd.read_csv(os.path.join('.', 'archive', 'sign_mnist_test', 'sign_mnist_test.csv'))"
   ]
  },
  {
   "cell_type": "code",
   "execution_count": 54,
   "metadata": {},
   "outputs": [
    {
     "data": {
      "text/html": [
       "<div>\n",
       "<style scoped>\n",
       "    .dataframe tbody tr th:only-of-type {\n",
       "        vertical-align: middle;\n",
       "    }\n",
       "\n",
       "    .dataframe tbody tr th {\n",
       "        vertical-align: top;\n",
       "    }\n",
       "\n",
       "    .dataframe thead th {\n",
       "        text-align: right;\n",
       "    }\n",
       "</style>\n",
       "<table border=\"1\" class=\"dataframe\">\n",
       "  <thead>\n",
       "    <tr style=\"text-align: right;\">\n",
       "      <th></th>\n",
       "      <th>label</th>\n",
       "      <th>pixel1</th>\n",
       "      <th>pixel2</th>\n",
       "      <th>pixel3</th>\n",
       "      <th>pixel4</th>\n",
       "      <th>pixel5</th>\n",
       "      <th>pixel6</th>\n",
       "      <th>pixel7</th>\n",
       "      <th>pixel8</th>\n",
       "      <th>pixel9</th>\n",
       "      <th>...</th>\n",
       "      <th>pixel775</th>\n",
       "      <th>pixel776</th>\n",
       "      <th>pixel777</th>\n",
       "      <th>pixel778</th>\n",
       "      <th>pixel779</th>\n",
       "      <th>pixel780</th>\n",
       "      <th>pixel781</th>\n",
       "      <th>pixel782</th>\n",
       "      <th>pixel783</th>\n",
       "      <th>pixel784</th>\n",
       "    </tr>\n",
       "  </thead>\n",
       "  <tbody>\n",
       "    <tr>\n",
       "      <th>0</th>\n",
       "      <td>3</td>\n",
       "      <td>107</td>\n",
       "      <td>118</td>\n",
       "      <td>127</td>\n",
       "      <td>134</td>\n",
       "      <td>139</td>\n",
       "      <td>143</td>\n",
       "      <td>146</td>\n",
       "      <td>150</td>\n",
       "      <td>153</td>\n",
       "      <td>...</td>\n",
       "      <td>207</td>\n",
       "      <td>207</td>\n",
       "      <td>207</td>\n",
       "      <td>207</td>\n",
       "      <td>206</td>\n",
       "      <td>206</td>\n",
       "      <td>206</td>\n",
       "      <td>204</td>\n",
       "      <td>203</td>\n",
       "      <td>202</td>\n",
       "    </tr>\n",
       "    <tr>\n",
       "      <th>1</th>\n",
       "      <td>6</td>\n",
       "      <td>155</td>\n",
       "      <td>157</td>\n",
       "      <td>156</td>\n",
       "      <td>156</td>\n",
       "      <td>156</td>\n",
       "      <td>157</td>\n",
       "      <td>156</td>\n",
       "      <td>158</td>\n",
       "      <td>158</td>\n",
       "      <td>...</td>\n",
       "      <td>69</td>\n",
       "      <td>149</td>\n",
       "      <td>128</td>\n",
       "      <td>87</td>\n",
       "      <td>94</td>\n",
       "      <td>163</td>\n",
       "      <td>175</td>\n",
       "      <td>103</td>\n",
       "      <td>135</td>\n",
       "      <td>149</td>\n",
       "    </tr>\n",
       "    <tr>\n",
       "      <th>2</th>\n",
       "      <td>2</td>\n",
       "      <td>187</td>\n",
       "      <td>188</td>\n",
       "      <td>188</td>\n",
       "      <td>187</td>\n",
       "      <td>187</td>\n",
       "      <td>186</td>\n",
       "      <td>187</td>\n",
       "      <td>188</td>\n",
       "      <td>187</td>\n",
       "      <td>...</td>\n",
       "      <td>202</td>\n",
       "      <td>201</td>\n",
       "      <td>200</td>\n",
       "      <td>199</td>\n",
       "      <td>198</td>\n",
       "      <td>199</td>\n",
       "      <td>198</td>\n",
       "      <td>195</td>\n",
       "      <td>194</td>\n",
       "      <td>195</td>\n",
       "    </tr>\n",
       "    <tr>\n",
       "      <th>3</th>\n",
       "      <td>2</td>\n",
       "      <td>211</td>\n",
       "      <td>211</td>\n",
       "      <td>212</td>\n",
       "      <td>212</td>\n",
       "      <td>211</td>\n",
       "      <td>210</td>\n",
       "      <td>211</td>\n",
       "      <td>210</td>\n",
       "      <td>210</td>\n",
       "      <td>...</td>\n",
       "      <td>235</td>\n",
       "      <td>234</td>\n",
       "      <td>233</td>\n",
       "      <td>231</td>\n",
       "      <td>230</td>\n",
       "      <td>226</td>\n",
       "      <td>225</td>\n",
       "      <td>222</td>\n",
       "      <td>229</td>\n",
       "      <td>163</td>\n",
       "    </tr>\n",
       "    <tr>\n",
       "      <th>4</th>\n",
       "      <td>13</td>\n",
       "      <td>164</td>\n",
       "      <td>167</td>\n",
       "      <td>170</td>\n",
       "      <td>172</td>\n",
       "      <td>176</td>\n",
       "      <td>179</td>\n",
       "      <td>180</td>\n",
       "      <td>184</td>\n",
       "      <td>185</td>\n",
       "      <td>...</td>\n",
       "      <td>92</td>\n",
       "      <td>105</td>\n",
       "      <td>105</td>\n",
       "      <td>108</td>\n",
       "      <td>133</td>\n",
       "      <td>163</td>\n",
       "      <td>157</td>\n",
       "      <td>163</td>\n",
       "      <td>164</td>\n",
       "      <td>179</td>\n",
       "    </tr>\n",
       "  </tbody>\n",
       "</table>\n",
       "<p>5 rows × 785 columns</p>\n",
       "</div>"
      ],
      "text/plain": [
       "   label  pixel1  pixel2  pixel3  pixel4  pixel5  pixel6  pixel7  pixel8  \\\n",
       "0      3     107     118     127     134     139     143     146     150   \n",
       "1      6     155     157     156     156     156     157     156     158   \n",
       "2      2     187     188     188     187     187     186     187     188   \n",
       "3      2     211     211     212     212     211     210     211     210   \n",
       "4     13     164     167     170     172     176     179     180     184   \n",
       "\n",
       "   pixel9  ...  pixel775  pixel776  pixel777  pixel778  pixel779  pixel780  \\\n",
       "0     153  ...       207       207       207       207       206       206   \n",
       "1     158  ...        69       149       128        87        94       163   \n",
       "2     187  ...       202       201       200       199       198       199   \n",
       "3     210  ...       235       234       233       231       230       226   \n",
       "4     185  ...        92       105       105       108       133       163   \n",
       "\n",
       "   pixel781  pixel782  pixel783  pixel784  \n",
       "0       206       204       203       202  \n",
       "1       175       103       135       149  \n",
       "2       198       195       194       195  \n",
       "3       225       222       229       163  \n",
       "4       157       163       164       179  \n",
       "\n",
       "[5 rows x 785 columns]"
      ]
     },
     "execution_count": 54,
     "metadata": {},
     "output_type": "execute_result"
    }
   ],
   "source": [
    "train_df.head()"
   ]
  },
  {
   "cell_type": "code",
   "execution_count": 55,
   "metadata": {},
   "outputs": [],
   "source": [
    "num_classes = 24\n",
    "train_labels = train_df['label']\n",
    "test_labels = test_df['label']\n",
    "from sklearn.preprocessing import LabelBinarizer\n",
    "label_binarizer = LabelBinarizer()\n",
    "y_train = label_binarizer.fit_transform(train_labels)\n",
    "y_test = label_binarizer.fit_transform(test_labels)\n",
    "\n",
    "train_imgs = ((train_df.loc[:, train_df.columns != 'label']).values/255).reshape(-1,28,28,1)\n",
    "test_imgs = ((test_df.loc[:, test_df.columns != 'label']).values/255).reshape(-1,28,28,1)"
   ]
  },
  {
   "cell_type": "code",
   "execution_count": 66,
   "metadata": {},
   "outputs": [
    {
     "name": "stdout",
     "output_type": "stream",
     "text": [
      "3\n"
     ]
    },
    {
     "data": {
      "image/png": "[encoded data removed]",
      "text/plain": [
       "<Figure size 640x480 with 1 Axes>"
      ]
     },
     "metadata": {},
     "output_type": "display_data"
    }
   ],
   "source": [
    "plt.imshow(train_imgs[0], cmap = \"gray\")\n",
    "print(train_labels[0])"
   ]
  },
  {
   "cell_type": "code",
   "execution_count": 57,
   "metadata": {},
   "outputs": [],
   "source": [
    "t_transform = ImageDataGenerator(\n",
    "    horizontal_flip=True,\n",
    "    zoom_range=0.2,\n",
    "    width_shift_range=0.1, \n",
    "    height_shift_range=0.1,\n",
    "    fill_mode='nearest'\n",
    ")\n",
    "\n",
    "t_generator = t_transform.fit(train_imgs)"
   ]
  },
  {
   "cell_type": "code",
   "execution_count": 67,
   "metadata": {},
   "outputs": [],
   "source": [
    "model = models.Sequential()\n",
    "model.add(layers.Conv2D(128, (3, 3), activation='relu', input_shape=(28, 28, 1)))\n",
    "model.add(layers.MaxPooling2D((2, 2)))\n",
    "model.add(layers.BatchNormalization())\n",
    "model.add(layers.Conv2D(64, (3, 3), activation='relu', input_shape=(28, 28, 1)))\n",
    "model.add(layers.MaxPooling2D((2, 2)))\n",
    "model.add(layers.BatchNormalization())\n",
    "model.add(layers.Conv2D(32, (3, 3), activation='relu', input_shape=(28, 28, 1)))\n",
    "model.add(layers.MaxPooling2D((2, 2)))\n",
    "model.add(layers.BatchNormalization())\n",
    "\n",
    "model.add(layers.Flatten())\n",
    "\n",
    "model.add(layers.Dense(512, activation='relu'))\n",
    "model.add(layers.Dropout(0.5))\n",
    "model.add(layers.Dense(num_classes, activation='softmax'))"
   ]
  },
  {
   "cell_type": "code",
   "execution_count": 68,
   "metadata": {},
   "outputs": [],
   "source": [
    "model.compile(optimizer = 'adam' , loss = 'categorical_crossentropy' , metrics = ['accuracy'])"
   ]
  },
  {
   "cell_type": "code",
   "execution_count": 69,
   "metadata": {},
   "outputs": [
    {
     "name": "stdout",
     "output_type": "stream",
     "text": [
      "Epoch 1/20\n",
      "215/215 [==============================] - 23s 101ms/step - loss: 1.7337 - accuracy: 0.4494 - val_loss: 4.2900 - val_accuracy: 0.0474\n",
      "Epoch 2/20\n",
      "215/215 [==============================] - 23s 104ms/step - loss: 0.6397 - accuracy: 0.7820 - val_loss: 4.1417 - val_accuracy: 0.0891\n",
      "Epoch 3/20\n",
      "215/215 [==============================] - 24s 110ms/step - loss: 0.3818 - accuracy: 0.8719 - val_loss: 0.7986 - val_accuracy: 0.6930\n",
      "Epoch 4/20\n",
      "215/215 [==============================] - 25s 114ms/step - loss: 0.2738 - accuracy: 0.9076 - val_loss: 0.8227 - val_accuracy: 0.7500\n",
      "Epoch 5/20\n",
      "215/215 [==============================] - 49s 227ms/step - loss: 0.2057 - accuracy: 0.9318 - val_loss: 0.2088 - val_accuracy: 0.9250\n",
      "Epoch 6/20\n",
      "215/215 [==============================] - 47s 218ms/step - loss: 0.1787 - accuracy: 0.9392 - val_loss: 0.3582 - val_accuracy: 0.8859\n",
      "Epoch 7/20\n",
      "215/215 [==============================] - 33s 155ms/step - loss: 0.1571 - accuracy: 0.9480 - val_loss: 1.5005 - val_accuracy: 0.6371\n",
      "Epoch 8/20\n",
      "215/215 [==============================] - 35s 161ms/step - loss: 0.1307 - accuracy: 0.9569 - val_loss: 0.1707 - val_accuracy: 0.9356\n",
      "Epoch 9/20\n",
      "215/215 [==============================] - 38s 177ms/step - loss: 0.1207 - accuracy: 0.9585 - val_loss: 0.1665 - val_accuracy: 0.9398\n",
      "Epoch 10/20\n",
      "215/215 [==============================] - 39s 181ms/step - loss: 0.1108 - accuracy: 0.9644 - val_loss: 0.3322 - val_accuracy: 0.8834\n",
      "Epoch 11/20\n",
      "215/215 [==============================] - 39s 179ms/step - loss: 0.1075 - accuracy: 0.9645 - val_loss: 0.3752 - val_accuracy: 0.8758\n",
      "Epoch 12/20\n",
      "215/215 [==============================] - 39s 180ms/step - loss: 0.0995 - accuracy: 0.9690 - val_loss: 0.0968 - val_accuracy: 0.9660\n",
      "Epoch 13/20\n",
      "215/215 [==============================] - 37s 172ms/step - loss: 0.0875 - accuracy: 0.9716 - val_loss: 0.1506 - val_accuracy: 0.9487\n",
      "Epoch 14/20\n",
      "215/215 [==============================] - 36s 165ms/step - loss: 0.0936 - accuracy: 0.9676 - val_loss: 0.1412 - val_accuracy: 0.9519\n",
      "Epoch 15/20\n",
      "215/215 [==============================] - 38s 174ms/step - loss: 0.0842 - accuracy: 0.9725 - val_loss: 0.4540 - val_accuracy: 0.8588\n",
      "Epoch 16/20\n",
      "215/215 [==============================] - 37s 171ms/step - loss: 0.0686 - accuracy: 0.9772 - val_loss: 0.1669 - val_accuracy: 0.9462\n",
      "Epoch 17/20\n",
      "215/215 [==============================] - 41s 189ms/step - loss: 0.0734 - accuracy: 0.9753 - val_loss: 0.0694 - val_accuracy: 0.9770\n",
      "Epoch 18/20\n",
      "215/215 [==============================] - 36s 165ms/step - loss: 0.0703 - accuracy: 0.9762 - val_loss: 0.7063 - val_accuracy: 0.8197\n",
      "Epoch 19/20\n",
      "215/215 [==============================] - 35s 163ms/step - loss: 0.0645 - accuracy: 0.9782 - val_loss: 0.4915 - val_accuracy: 0.8631\n",
      "Epoch 20/20\n",
      "215/215 [==============================] - 36s 168ms/step - loss: 0.0626 - accuracy: 0.9785 - val_loss: 0.0944 - val_accuracy: 0.9650\n"
     ]
    }
   ],
   "source": [
    "history = model.fit(t_transform.flow(train_imgs, y_train, batch_size = 128), epochs = 20, validation_data = (test_imgs, y_test))"
   ]
  },
  {
   "cell_type": "code",
   "execution_count": 70,
   "metadata": {},
   "outputs": [],
   "source": [
    "model.save(\"mnist_asl_model.keras\")"
   ]
  },
  {
   "cell_type": "code",
   "execution_count": null,
   "metadata": {},
   "outputs": [],
   "source": []
  }
 ],
 "metadata": {
  "kernelspec": {
   "display_name": "tf",
   "language": "python",
   "name": "python3"
  },
  "language_info": {
   "codemirror_mode": {
    "name": "ipython",
    "version": 3
   },
   "file_extension": ".py",
   "mimetype": "text/x-python",
   "name": "python",
   "nbconvert_exporter": "python",
   "pygments_lexer": "ipython3",
   "version": "3.10.13"
  }
 },
 "nbformat": 4,
 "nbformat_minor": 2
}
